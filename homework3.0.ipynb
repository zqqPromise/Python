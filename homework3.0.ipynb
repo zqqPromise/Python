{
 "cells": [
  {
   "cell_type": "code",
   "execution_count": 1,
   "metadata": {},
   "outputs": [],
   "source": [
    "import math"
   ]
  },
  {
   "cell_type": "code",
   "execution_count": 2,
   "metadata": {},
   "outputs": [
    {
     "name": "stdout",
     "output_type": "stream",
     "text": [
      "请分别输入a,b,c的值1.0,3,1\n",
      "-0.381966 and -2.61803\n",
      "请分别输入a,b,c的值1,2.0,1\n",
      "The root is  -1.0\n",
      "请分别输入a,b,c的值1,2,3\n"
     ]
    },
    {
     "ename": "TypeError",
     "evalue": "type complex doesn't define __round__ method",
     "output_type": "error",
     "traceback": [
      "\u001b[1;31m---------------------------------------------------------------------------\u001b[0m",
      "\u001b[1;31mTypeError\u001b[0m                                 Traceback (most recent call last)",
      "\u001b[1;32m<ipython-input-2-30df3e400a4f>\u001b[0m in \u001b[0;36m<module>\u001b[1;34m\u001b[0m\n\u001b[0;32m      4\u001b[0m     \u001b[0mR1\u001b[0m \u001b[1;33m=\u001b[0m \u001b[1;33m(\u001b[0m\u001b[1;33m-\u001b[0m\u001b[0mb\u001b[0m \u001b[1;33m+\u001b[0m \u001b[0mx\u001b[0m \u001b[1;33m**\u001b[0m\u001b[1;33m(\u001b[0m\u001b[1;36m1\u001b[0m\u001b[1;33m/\u001b[0m\u001b[1;36m2\u001b[0m\u001b[1;33m)\u001b[0m\u001b[1;33m)\u001b[0m \u001b[1;33m/\u001b[0m \u001b[1;36m2\u001b[0m \u001b[1;33m*\u001b[0m \u001b[0ma\u001b[0m\u001b[1;33m\u001b[0m\u001b[1;33m\u001b[0m\u001b[0m\n\u001b[0;32m      5\u001b[0m     \u001b[0mR2\u001b[0m \u001b[1;33m=\u001b[0m \u001b[1;33m(\u001b[0m\u001b[1;33m-\u001b[0m\u001b[0mb\u001b[0m \u001b[1;33m-\u001b[0m \u001b[0mx\u001b[0m \u001b[1;33m**\u001b[0m\u001b[1;33m(\u001b[0m\u001b[1;36m1\u001b[0m\u001b[1;33m/\u001b[0m\u001b[1;36m2\u001b[0m\u001b[1;33m)\u001b[0m\u001b[1;33m)\u001b[0m \u001b[1;33m/\u001b[0m \u001b[1;36m2\u001b[0m \u001b[1;33m*\u001b[0m \u001b[0ma\u001b[0m\u001b[1;33m\u001b[0m\u001b[1;33m\u001b[0m\u001b[0m\n\u001b[1;32m----> 6\u001b[1;33m     \u001b[0mR1\u001b[0m \u001b[1;33m=\u001b[0m \u001b[0mround\u001b[0m\u001b[1;33m(\u001b[0m\u001b[0mR1\u001b[0m\u001b[1;33m,\u001b[0m\u001b[1;36m6\u001b[0m\u001b[1;33m)\u001b[0m\u001b[1;33m\u001b[0m\u001b[1;33m\u001b[0m\u001b[0m\n\u001b[0m\u001b[0;32m      7\u001b[0m     \u001b[0mR2\u001b[0m \u001b[1;33m=\u001b[0m \u001b[0mround\u001b[0m\u001b[1;33m(\u001b[0m\u001b[0mR2\u001b[0m\u001b[1;33m,\u001b[0m\u001b[1;36m5\u001b[0m\u001b[1;33m)\u001b[0m\u001b[1;33m\u001b[0m\u001b[1;33m\u001b[0m\u001b[0m\n\u001b[0;32m      8\u001b[0m     \u001b[1;32mif\u001b[0m \u001b[0mx\u001b[0m \u001b[1;33m>\u001b[0m \u001b[1;36m0\u001b[0m\u001b[1;33m:\u001b[0m\u001b[1;33m\u001b[0m\u001b[1;33m\u001b[0m\u001b[0m\n",
      "\u001b[1;31mTypeError\u001b[0m: type complex doesn't define __round__ method"
     ]
    }
   ],
   "source": [
    "for i in range(1,4):\n",
    "    a,b,c = eval(input(\"请分别输入a,b,c的值\"))\n",
    "    x = math.pow(b,2)-4*a*c\n",
    "    R1 = (-b + x **(1/2)) / 2 * a\n",
    "    R2 = (-b - x **(1/2)) / 2 * a\n",
    "    R1 = round(R1,6)\n",
    "    R2 = round(R2,5)\n",
    "    if x > 0:\n",
    "        print(R1,R2,sep=' and ')\n",
    "    elif x == 0:\n",
    "        print('The root is ',R1 or R2)\n",
    "    else:\n",
    "        print('The equation has no real roots')"
   ]
  },
  {
   "cell_type": "code",
   "execution_count": 3,
   "metadata": {},
   "outputs": [],
   "source": [
    "import random"
   ]
  },
  {
   "cell_type": "code",
   "execution_count": 4,
   "metadata": {},
   "outputs": [
    {
     "name": "stdout",
     "output_type": "stream",
     "text": [
      "54\n",
      "1\n",
      "请输入两个数字的和55\n",
      "正确！\n"
     ]
    }
   ],
   "source": [
    "number_1 = random.randrange(0,100)\n",
    "number_2 = random.randrange(0,100)\n",
    "print(number_1)\n",
    "print(number_2)\n",
    "x = eval(input(\"请输入两个数字的和\"))\n",
    "if x == number_1 + number_2:\n",
    "    print(\"正确！\")\n",
    "else:\n",
    "    print(\"错啦！\")"
   ]
  },
  {
   "cell_type": "code",
   "execution_count": 5,
   "metadata": {},
   "outputs": [
    {
     "name": "stdout",
     "output_type": "stream",
     "text": [
      "请输入今天是星期几（星期天：0，星期一：1......星期六：6）1\n",
      "请输入今天之后到未来某天的天数4\n",
      "5\n",
      "请输入今天是星期几（星期天：0，星期一：1......星期六：6）5\n",
      "请输入今天之后到未来某天的天数4\n",
      "2\n"
     ]
    }
   ],
   "source": [
    "for i in range(0,2):\n",
    "    today = eval(input(\"请输入今天是星期几（星期天：0，星期一：1......星期六：6）\"))\n",
    "    future = eval(input(\"请输入今天之后到未来某天的天数\"))\n",
    "    result = (today +  future) % 7\n",
    "    print(result)"
   ]
  },
  {
   "cell_type": "code",
   "execution_count": 6,
   "metadata": {},
   "outputs": [
    {
     "name": "stdout",
     "output_type": "stream",
     "text": [
      "请输入第一个任意整数：4\n",
      "请输入第二个任意整数：7\n",
      "请输入第三个任意整数；6\n",
      "7 6 4\n"
     ]
    }
   ],
   "source": [
    "a = eval(input(\"请输入第一个任意整数：\"))\n",
    "b = eval(input(\"请输入第二个任意整数：\"))\n",
    "c = eval(input(\"请输入第三个任意整数；\"))\n",
    "if a > b > c:\n",
    "    print(a,b,c)\n",
    "elif a > c > b:\n",
    "    print(a,c,b)\n",
    "elif b > a > c:\n",
    "    print(b,a,c)\n",
    "elif b > c > a:\n",
    "    print(b,c,a)\n",
    "elif c > b > a:\n",
    "    print(c,b,a)\n",
    "elif c > a > b:\n",
    "    print(c,a,b)\n",
    "else:\n",
    "    print(a,b,c)"
   ]
  },
  {
   "cell_type": "code",
   "execution_count": 1,
   "metadata": {},
   "outputs": [
    {
     "name": "stdout",
     "output_type": "stream",
     "text": [
      "请输入第一种大米的重量和价钱：50,24.59\n",
      "请输入第二种大米的重量和价钱：20,11.53\n",
      "第二种包装的大米更好\n"
     ]
    }
   ],
   "source": [
    "weight_1,price_1 = eval(input(\"请输入第一种大米的重量和价钱：\"))\n",
    "weight_2,price_2 = eval(input(\"请输入第二种大米的重量和价钱：\"))\n",
    "if weight_1 == weight_2:\n",
    "    if price_1 < price_2:\n",
    "        print(\"第一种包装的大米更好\")\n",
    "elif price_1 > price_2:\n",
    "    print(\"第二种包装的大米更好\")"
   ]
  },
  {
   "cell_type": "code",
   "execution_count": 2,
   "metadata": {},
   "outputs": [
    {
     "name": "stdout",
     "output_type": "stream",
     "text": [
      "请输入月份：7\n",
      "请输入年：1999\n",
      "本月31天\n",
      "请输入月份：8\n",
      "请输入年：1998\n",
      "本月31天\n"
     ]
    }
   ],
   "source": [
    "for i in range(0,2):\n",
    "    month = eval(input(\"请输入月份：\"))\n",
    "    year = eval(input(\"请输入年：\"))\n",
    "    year_1 = year % 400\n",
    "    year_2 = year % 4\n",
    "    year_3 = year % 100\n",
    "    if (year_1 == 0) or (year_2 == 0 and year_3 != 0):\n",
    "        if month != 2:\n",
    "            if (month == 1 or month == 3 or month == 5 or month == 7 or month == 8 or month == 10 or month == 12):\n",
    "                print(\"本月31天\")\n",
    "            else:\n",
    "                print(\"本月30天\")\n",
    "        else:\n",
    "            print(\"本月29天\")\n",
    "    else:\n",
    "        if month != 2:\n",
    "            if (month == 1 or month == 3 or month == 5 or month == 7 or month == 8 or month == 10 or month == 12):\n",
    "                print(\"本月31天\")\n",
    "            else:\n",
    "                print(\"本月30天\")\n",
    "        else:\n",
    "            print(\"本月28天\")"
   ]
  },
  {
   "cell_type": "code",
   "execution_count": 3,
   "metadata": {},
   "outputs": [],
   "source": [
    "import random"
   ]
  },
  {
   "cell_type": "code",
   "execution_count": 4,
   "metadata": {},
   "outputs": [
    {
     "name": "stdout",
     "output_type": "stream",
     "text": [
      "请输入一个猜测值【1：正面，0：反面】0\n",
      "正确\n"
     ]
    }
   ],
   "source": [
    "value = eval(input(\"请输入一个猜测值【1：正面，0：反面】\"))\n",
    "face = random.randint(0,1)\n",
    "if face == value:\n",
    "    print(\"正确\")\n",
    "else:\n",
    "    print(\"错误\")"
   ]
  },
  {
   "cell_type": "code",
   "execution_count": null,
   "metadata": {},
   "outputs": [],
   "source": []
  },
  {
   "cell_type": "code",
   "execution_count": null,
   "metadata": {},
   "outputs": [],
   "source": []
  },
  {
   "cell_type": "code",
   "execution_count": 5,
   "metadata": {},
   "outputs": [
    {
     "name": "stdout",
     "output_type": "stream",
     "text": [
      "Ace\n",
      "红桃\n",
      "1 and 2\n"
     ]
    }
   ],
   "source": [
    "x = random.randint(1,13)\n",
    "if x == 1:\n",
    "    print('Ace')\n",
    "elif x == 2 or x == 3 or x == 4 or x == 5 or x == 6 or x == 7 or x == 8 or x == 9 or x == 10:\n",
    "    print(x)\n",
    "elif x == 11:\n",
    "    print('Jack')\n",
    "elif x == 12:\n",
    "    print('Queen')\n",
    "elif x == 13:\n",
    "    print('King')\n",
    "y = random.randint(1,4)\n",
    "if y == 1:\n",
    "    print('梅花')\n",
    "elif y == 2:\n",
    "    print('红桃')\n",
    "elif y == 3:\n",
    "    print('方块')\n",
    "elif y == 4:\n",
    "    print('黑桃')\n",
    "print(x,y,sep=' and ')"
   ]
  },
  {
   "cell_type": "code",
   "execution_count": 6,
   "metadata": {},
   "outputs": [
    {
     "name": "stdout",
     "output_type": "stream",
     "text": [
      "梅花\n"
     ]
    }
   ],
   "source": [
    "y = random.randint(1,4)\n",
    "if y == 1:\n",
    "    print('梅花')\n",
    "elif y == 2:\n",
    "    print('红桃')\n",
    "elif y == 3:\n",
    "    print('方块')\n",
    "elif y == 4:\n",
    "    print('黑桃')"
   ]
  },
  {
   "cell_type": "code",
   "execution_count": 7,
   "metadata": {},
   "outputs": [
    {
     "name": "stdout",
     "output_type": "stream",
     "text": [
      "请任意输入一个三位整数190\n",
      "190 is not a palindrome\n"
     ]
    }
   ],
   "source": [
    "x = input('请任意输入一个三位整数')\n",
    "if x[0] == x[2]:\n",
    "    print(x,'is a palindrome')\n",
    "else:\n",
    "    print(x,'is not a palindrome')"
   ]
  },
  {
   "cell_type": "code",
   "execution_count": 8,
   "metadata": {},
   "outputs": [
    {
     "name": "stdout",
     "output_type": "stream",
     "text": [
      "请分别输入三角形的三个边长3,4,5\n",
      "12\n"
     ]
    }
   ],
   "source": [
    "a,b,c = eval(input(\"请分别输入三角形的三个边长\"))\n",
    "if (a + b) > c and (a + c) > b and(b + c) > a: \n",
    "    L = a + b + c \n",
    "    print(L)\n",
    "else:\n",
    "    print('不是三角形')"
   ]
  },
  {
   "cell_type": "code",
   "execution_count": null,
   "metadata": {},
   "outputs": [],
   "source": []
  }
 ],
 "metadata": {
  "kernelspec": {
   "display_name": "Python 3",
   "language": "python",
   "name": "python3"
  },
  "language_info": {
   "codemirror_mode": {
    "name": "ipython",
    "version": 3
   },
   "file_extension": ".py",
   "mimetype": "text/x-python",
   "name": "python",
   "nbconvert_exporter": "python",
   "pygments_lexer": "ipython3",
   "version": "3.7.3"
  }
 },
 "nbformat": 4,
 "nbformat_minor": 2
}
