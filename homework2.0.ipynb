{
 "cells": [
  {
   "cell_type": "code",
   "execution_count": 1,
   "metadata": {},
   "outputs": [
    {
     "name": "stdout",
     "output_type": "stream",
     "text": [
      "请输入一个半径5.5\n",
      "71.92\n"
     ]
    }
   ],
   "source": [
    "import math\n",
    "r = eval(input(\"请输入一个半径\"))\n",
    "s = 2 * r * math.sin(math.pi/5)\n",
    "Area = 5 * s * s / (4 * math.tan(math.pi/5))\n",
    "Area = round(Area,2)\n",
    "print(Area)"
   ]
  },
  {
   "cell_type": "code",
   "execution_count": 2,
   "metadata": {},
   "outputs": [
    {
     "name": "stdout",
     "output_type": "stream",
     "text": [
      "请输入第一个点的经度和纬度39.55,-116.25\n",
      "请输入第二个点的经度和纬度41.5,87.37\n",
      "10691.79183231593\n"
     ]
    }
   ],
   "source": [
    "x1,y1 = eval(input(\"请输入第一个点的经度和纬度\"))\n",
    "x2,y2 = eval(input(\"请输入第二个点的经度和纬度\"))\n",
    "x1 = math.radians(x1)\n",
    "y1 = math.radians(y1)\n",
    "x2 = math.radians(x2)\n",
    "y2 = math.radians(y2)\n",
    "radius = 6371.01\n",
    "d = math.acos(math.sin(x1) * math.sin(x2) + math.cos(x1) * math.cos(x2) * math.cos(y1 - y2))\n",
    "print(d * radius)"
   ]
  },
  {
   "cell_type": "code",
   "execution_count": 3,
   "metadata": {},
   "outputs": [
    {
     "name": "stdout",
     "output_type": "stream",
     "text": [
      "请输入边长5.5\n",
      "The area of the pentagon is 52.044441367816255\n"
     ]
    }
   ],
   "source": [
    "s = eval(input('请输入边长'))\n",
    "A1 = 5 * s ** 2\n",
    "A2 = 4 * math.tan(math.pi/5)\n",
    "Area = A1/A2\n",
    "print('The area of the pentagon is',Area)"
   ]
  },
  {
   "cell_type": "code",
   "execution_count": 4,
   "metadata": {},
   "outputs": [
    {
     "name": "stdout",
     "output_type": "stream",
     "text": [
      "请输入正多边形边数5\n",
      "请输入边长6.5\n",
      "The area of the pentage is 72.69017017488386\n"
     ]
    }
   ],
   "source": [
    "import math\n",
    "\n",
    "n = eval(input('请输入正多边形边数'))\n",
    "s = eval(input('请输入边长'))\n",
    "A1 = n * s ** 2\n",
    "A2 = 4 * math.tan(math.pi/n)\n",
    "Area = A1/A2\n",
    "print('The area of the pentage is',Area)"
   ]
  },
  {
   "cell_type": "code",
   "execution_count": 5,
   "metadata": {},
   "outputs": [
    {
     "name": "stdout",
     "output_type": "stream",
     "text": [
      "请输入整数69\n"
     ]
    },
    {
     "data": {
      "text/plain": [
       "'E'"
      ]
     },
     "execution_count": 5,
     "metadata": {},
     "output_type": "execute_result"
    }
   ],
   "source": [
    "a = eval(input('请输入整数'))\n",
    "chr(a)"
   ]
  },
  {
   "cell_type": "code",
   "execution_count": null,
   "metadata": {},
   "outputs": [],
   "source": []
  },
  {
   "cell_type": "code",
   "execution_count": 6,
   "metadata": {},
   "outputs": [
    {
     "name": "stdout",
     "output_type": "stream",
     "text": [
      "5 2 1 3\n"
     ]
    }
   ],
   "source": [
    "a = 3125\n",
    "b = a%312\n",
    "c = a//10%31\n",
    "d = a//100%3\n",
    "e = a//1000\n",
    "print(b,c,d,e)"
   ]
  },
  {
   "cell_type": "code",
   "execution_count": null,
   "metadata": {},
   "outputs": [],
   "source": []
  }
 ],
 "metadata": {
  "kernelspec": {
   "display_name": "Python 3",
   "language": "python",
   "name": "python3"
  },
  "language_info": {
   "codemirror_mode": {
    "name": "ipython",
    "version": 3
   },
   "file_extension": ".py",
   "mimetype": "text/x-python",
   "name": "python",
   "nbconvert_exporter": "python",
   "pygments_lexer": "ipython3",
   "version": "3.7.3"
  }
 },
 "nbformat": 4,
 "nbformat_minor": 2
}
