{
 "cells": [
  {
   "cell_type": "markdown",
   "metadata": {},
   "source": [
    "# Homework\n",
    "- 1\n",
    "![](../Photo/106.png)"
   ]
  },
  {
   "cell_type": "code",
   "execution_count": 1,
   "metadata": {},
   "outputs": [
    {
     "name": "stdout",
     "output_type": "stream",
     "text": [
      "请输入一个社会安全号码1234555\n",
      "123 455 5\n"
     ]
    }
   ],
   "source": [
    "anquanma = input(\"请输入一个社会安全号码\")\n",
    "Long = len(anquanma)\n",
    "if Long < 3:\n",
    "    print (anquanma)\n",
    "elif 3 < Long < 6:\n",
    "    print (anquanma[:3],anquanma[3:])\n",
    "else:\n",
    "    print (anquanma[:3],anquanma[3:6],anquanma[6:])  "
   ]
  },
  {
   "cell_type": "code",
   "execution_count": null,
   "metadata": {},
   "outputs": [],
   "source": []
  },
  {
   "cell_type": "markdown",
   "metadata": {},
   "source": [
    "- 2\n",
    "![](../Photo/107.png)"
   ]
  },
  {
   "cell_type": "code",
   "execution_count": 3,
   "metadata": {},
   "outputs": [
    {
     "name": "stdout",
     "output_type": "stream",
     "text": [
      "是子串\n"
     ]
    }
   ],
   "source": [
    "a = \"a b c d e f\"\n",
    "if \"a b c\" in a:\n",
    "     c = True\n",
    "if c == True:\n",
    "    print (\"是子串\")"
   ]
  },
  {
   "cell_type": "markdown",
   "metadata": {},
   "source": [
    "- 3\n",
    "![](../Photo/108.png)"
   ]
  },
  {
   "cell_type": "code",
   "execution_count": 9,
   "metadata": {},
   "outputs": [
    {
     "name": "stdout",
     "output_type": "stream",
     "text": [
      "c6gBJD8F\n"
     ]
    }
   ],
   "source": [
    "import random\n",
    "import string\n",
    "def mima(length=8, chars=string.ascii_letters+string.digits+'string.punctuation'):\n",
    "    return ''.join([random.choice(chars) \n",
    "    for i in range(length)])\n",
    "    print(GenPassword(8))\n",
    "if __name__=='__main__':\n",
    "    print(mima())"
   ]
  },
  {
   "cell_type": "markdown",
   "metadata": {},
   "source": [
    "- 4\n",
    "![](../Photo/109.png)"
   ]
  },
  {
   "cell_type": "code",
   "execution_count": 15,
   "metadata": {},
   "outputs": [
    {
     "name": "stdout",
     "output_type": "stream",
     "text": [
      "输入字符串: homework7.0buhuizuo \n",
      "包含的字母: ['h', 'o', 'm', 'e', 'w', 'o', 'r', 'k', 'b', 'u', 'h', 'u', 'i', 'z', 'u', 'o']\n"
     ]
    }
   ],
   "source": [
    "import re\n",
    "str_test = 'homework7.0buhuizuo '#把正则表达式编译成对象\n",
    "zimu_regex = re.compile(r'[a-zA-z]')\n",
    "print('输入字符串:',str_test)#findall获取字符串中所有匹配的字符\n",
    "zimu_list = zimu_regex.findall(str_test)\n",
    "print('包含的字母:',zimu_list)"
   ]
  },
  {
   "cell_type": "code",
   "execution_count": 14,
   "metadata": {},
   "outputs": [
    {
     "name": "stdout",
     "output_type": "stream",
     "text": [
      "请输入一串字符:kecyryn8rc0ru39487ycgnyr294p7\n",
      "{'k': 1, 'e': 1, 'c': 3, 'y': 4, 'r': 4, 'n': 2, '8': 2, '0': 1, 'u': 1, '3': 1, '9': 2, '4': 2, '7': 2, 'g': 1, '2': 1, 'p': 1}\n"
     ]
    }
   ],
   "source": [
    "str=input(\"请输入一串字符:\")\n",
    "resoult={}\n",
    "for i in str:\n",
    "    resoult[i]=str.count(i)\n",
    "print(resoult)"
   ]
  },
  {
   "cell_type": "markdown",
   "metadata": {},
   "source": [
    "- 5\n",
    "![](../Photo/110.png)"
   ]
  },
  {
   "cell_type": "markdown",
   "metadata": {},
   "source": [
    "- 6\n",
    "![](../Photo/111.png)"
   ]
  },
  {
   "cell_type": "markdown",
   "metadata": {},
   "source": [
    "- 7\n",
    "![](../Photo/112.png)"
   ]
  },
  {
   "cell_type": "markdown",
   "metadata": {},
   "source": [
    "- 8\n",
    "![](../Photo/113.png)"
   ]
  },
  {
   "cell_type": "markdown",
   "metadata": {},
   "source": [
    "- 9\n",
    "![](../Photo/114.png)"
   ]
  }
 ],
 "metadata": {
  "kernelspec": {
   "display_name": "Python 3",
   "language": "python",
   "name": "python3"
  },
  "language_info": {
   "codemirror_mode": {
    "name": "ipython",
    "version": 3
   },
   "file_extension": ".py",
   "mimetype": "text/x-python",
   "name": "python",
   "nbconvert_exporter": "python",
   "pygments_lexer": "ipython3",
   "version": "3.7.3"
  }
 },
 "nbformat": 4,
 "nbformat_minor": 2
}
