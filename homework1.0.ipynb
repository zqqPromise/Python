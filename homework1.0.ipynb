{
 "cells": [
  {
   "cell_type": "code",
   "execution_count": 2,
   "metadata": {},
   "outputs": [
    {
     "name": "stdout",
     "output_type": "stream",
     "text": [
      "109.4\n"
     ]
    }
   ],
   "source": [
    "celsius = 43\n",
    "fahrenheit = (9/5) * celsius + 32\n",
    "print(fahrenheit)"
   ]
  },
  {
   "cell_type": "code",
   "execution_count": 3,
   "metadata": {},
   "outputs": [
    {
     "name": "stdout",
     "output_type": "stream",
     "text": [
      "请输入半径5.5\n",
      "请输入高12\n",
      "面积为： 95.0331\n",
      "体积为： 1140.4\n"
     ]
    }
   ],
   "source": [
    "radius = input(\"请输入半径\")\n",
    "length = input(\"请输入高\")\n",
    "radius = float(radius)\n",
    "length = float(length)\n",
    "area = radius * radius * 3.14159\n",
    "volume = (radius * radius * 3.14159) * length\n",
    "area = round(area,4)\n",
    "print(\"面积为：\",area)\n",
    "volume = round(volume,1)\n",
    "print(\"体积为：\",volume)"
   ]
  },
  {
   "cell_type": "code",
   "execution_count": 4,
   "metadata": {},
   "outputs": [
    {
     "name": "stdout",
     "output_type": "stream",
     "text": [
      "请输入英尺数16.5\n",
      "米数为： 5.0325\n"
     ]
    }
   ],
   "source": [
    "feet = eval(input(\"请输入英尺数\"))\n",
    "meters = 0.305 * feet\n",
    "print(\"米数为：\",meters)"
   ]
  },
  {
   "cell_type": "code",
   "execution_count": 5,
   "metadata": {},
   "outputs": [
    {
     "name": "stdout",
     "output_type": "stream",
     "text": [
      "请输入水量55.5\n",
      "请输入初始温度3.5\n",
      "请输入最终温度10.5\n",
      "热量为： 1625484.0\n"
     ]
    }
   ],
   "source": [
    "M = input(\"请输入水量\")\n",
    "initial = input(\"请输入初始温度\")\n",
    "final = input(\"请输入最终温度\")\n",
    "M = float(M)\n",
    "initial = float(initial)\n",
    "final = float(final)\n",
    "Q = M * (final - initial) * 4184\n",
    "Q = round(Q,1)\n",
    "print(\"热量为：\",Q)"
   ]
  },
  {
   "cell_type": "code",
   "execution_count": 8,
   "metadata": {},
   "outputs": [
    {
     "name": "stdout",
     "output_type": "stream",
     "text": [
      "请输入差额1000\n",
      "请输入年利率3.5\n",
      "利息为： 2.91667\n"
     ]
    }
   ],
   "source": [
    "balance = input(\"请输入差额\")\n",
    "rate = input(\"请输入年利率\")\n",
    "balance = float(balance)\n",
    "rate = float(rate)\n",
    "interest = balance * (rate/1200)\n",
    "interest = round(interest,5)\n",
    "print(\"利息为：\",interest)"
   ]
  },
  {
   "cell_type": "code",
   "execution_count": 7,
   "metadata": {},
   "outputs": [
    {
     "name": "stdout",
     "output_type": "stream",
     "text": [
      "请输入初始速度5.5\n",
      "请输入末速度50.9\n",
      "请输入变化所占用的时间4.5\n",
      "平均加速度为： 10.0889\n"
     ]
    }
   ],
   "source": [
    "v0 = input(\"请输入初始速度\")\n",
    "v1 = input(\"请输入末速度\")\n",
    "t = input(\"请输入变化所占用的时间\")\n",
    "v0 = float(v0)\n",
    "v1 = float(v1)\n",
    "t = float(t)\n",
    "a = (v1 - v0)/t\n",
    "a = round(a,4)\n",
    "print(\"平均加速度为：\",a)"
   ]
  }
 ],
 "metadata": {
  "kernelspec": {
   "display_name": "Python 3",
   "language": "python",
   "name": "python3"
  },
  "language_info": {
   "codemirror_mode": {
    "name": "ipython",
    "version": 3
   },
   "file_extension": ".py",
   "mimetype": "text/x-python",
   "name": "python",
   "nbconvert_exporter": "python",
   "pygments_lexer": "ipython3",
   "version": "3.7.3"
  }
 },
 "nbformat": 4,
 "nbformat_minor": 2
}
