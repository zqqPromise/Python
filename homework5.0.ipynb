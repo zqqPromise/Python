{
 "cells": [
  {
   "cell_type": "code",
   "execution_count": 6,
   "metadata": {},
   "outputs": [
    {
     "name": "stdout",
     "output_type": "stream",
     "text": [
      "1\n"
     ]
    }
   ],
   "source": [
    "print('1')"
   ]
  },
  {
   "cell_type": "code",
   "execution_count": 2,
   "metadata": {},
   "outputs": [],
   "source": [
    "def getpentagonalnumber( ):\n",
    "    n = 0\n",
    "    count = 0\n",
    "    for i in range(1,101):\n",
    "        a = (n * (3*n-1))/2\n",
    "        n += 1\n",
    "        print(int(a),end = '    ')\n",
    "        count += 1\n",
    "        if count % 10 == 0:\n",
    "            print( )"
   ]
  },
  {
   "cell_type": "code",
   "execution_count": 7,
   "metadata": {},
   "outputs": [
    {
     "name": "stdout",
     "output_type": "stream",
     "text": [
      "2\n"
     ]
    }
   ],
   "source": [
    "print('2')"
   ]
  },
  {
   "cell_type": "code",
   "execution_count": null,
   "metadata": {},
   "outputs": [],
   "source": []
  },
  {
   "cell_type": "code",
   "execution_count": 8,
   "metadata": {},
   "outputs": [
    {
     "name": "stdout",
     "output_type": "stream",
     "text": [
      "3\n"
     ]
    }
   ],
   "source": [
    "print('3')"
   ]
  },
  {
   "cell_type": "code",
   "execution_count": 2,
   "metadata": {},
   "outputs": [
    {
     "name": "stdout",
     "output_type": "stream",
     "text": [
      "3 2.4 5\n"
     ]
    }
   ],
   "source": [
    "def displaysortednumbers(num1, num2, num3):\n",
    "    L = (num1, num2, num3)        \n",
    "    return L \n",
    "num1, num2, num3 = displaysortednumbers(3,2.4, 5)\n",
    "print(num1, num2, num3)"
   ]
  },
  {
   "cell_type": "code",
   "execution_count": 3,
   "metadata": {},
   "outputs": [
    {
     "name": "stdout",
     "output_type": "stream",
     "text": [
      "4\n"
     ]
    }
   ],
   "source": [
    "print('4')"
   ]
  },
  {
   "cell_type": "code",
   "execution_count": 4,
   "metadata": {},
   "outputs": [],
   "source": [
    "import math"
   ]
  },
  {
   "cell_type": "code",
   "execution_count": 5,
   "metadata": {},
   "outputs": [],
   "source": [
    "def futureInvestmentValue(investmentamount,monthlyinterestrate,years):\n",
    "    for i in range(0,30):\n",
    "        FV = IA * math.pow((1 + year/100),i)\n",
    "        i += 1\n",
    "        print(i,FV)"
   ]
  },
  {
   "cell_type": "code",
   "execution_count": 6,
   "metadata": {},
   "outputs": [
    {
     "name": "stdout",
     "output_type": "stream",
     "text": [
      "5\n"
     ]
    }
   ],
   "source": [
    "print('5')"
   ]
  },
  {
   "cell_type": "code",
   "execution_count": 7,
   "metadata": {},
   "outputs": [],
   "source": [
    "def printChars10(ch1,ch2):\n",
    "    count = 0\n",
    "    for i in range(50,100):\n",
    "        print(chr(i),end=' ')\n",
    "        count += 1\n",
    "        if count % 10 == 0:\n",
    "            print()"
   ]
  },
  {
   "cell_type": "code",
   "execution_count": 8,
   "metadata": {
    "scrolled": true
   },
   "outputs": [
    {
     "name": "stdout",
     "output_type": "stream",
     "text": [
      "2 3 4 5 6 7 8 9 : ; \n",
      "< = > ? @ A B C D E \n",
      "F G H I J K L M N O \n",
      "P Q R S T U V W X Y \n",
      "Z [ \\ ] ^ _ ` a b c \n"
     ]
    }
   ],
   "source": [
    "printChars10(50,100)"
   ]
  },
  {
   "cell_type": "code",
   "execution_count": 8,
   "metadata": {},
   "outputs": [
    {
     "name": "stdout",
     "output_type": "stream",
     "text": [
      "6\n"
     ]
    }
   ],
   "source": [
    "print('6')"
   ]
  },
  {
   "cell_type": "code",
   "execution_count": 9,
   "metadata": {},
   "outputs": [],
   "source": [
    "def numberofdaysinayear(year):\n",
    "    for year in range(2010,2021):\n",
    "        if ((year % 4 == 0) and (year % 100 != 0)) or (year % 400 ==0):\n",
    "            print('366')\n",
    "        else:\n",
    "            print('365')"
   ]
  },
  {
   "cell_type": "code",
   "execution_count": 10,
   "metadata": {},
   "outputs": [
    {
     "ename": "NameError",
     "evalue": "name 'year' is not defined",
     "output_type": "error",
     "traceback": [
      "\u001b[1;31m---------------------------------------------------------------------------\u001b[0m",
      "\u001b[1;31mNameError\u001b[0m                                 Traceback (most recent call last)",
      "\u001b[1;32m<ipython-input-10-f41357c2fcce>\u001b[0m in \u001b[0;36m<module>\u001b[1;34m\u001b[0m\n\u001b[1;32m----> 1\u001b[1;33m \u001b[0mnumberofdaysinayear\u001b[0m\u001b[1;33m(\u001b[0m\u001b[0myear\u001b[0m\u001b[1;33m)\u001b[0m\u001b[1;33m\u001b[0m\u001b[1;33m\u001b[0m\u001b[0m\n\u001b[0m",
      "\u001b[1;31mNameError\u001b[0m: name 'year' is not defined"
     ]
    }
   ],
   "source": [
    "numberofdaysinayear(year)"
   ]
  },
  {
   "cell_type": "code",
   "execution_count": 11,
   "metadata": {},
   "outputs": [
    {
     "name": "stdout",
     "output_type": "stream",
     "text": [
      "7\n"
     ]
    }
   ],
   "source": [
    "print('7')"
   ]
  },
  {
   "cell_type": "code",
   "execution_count": null,
   "metadata": {},
   "outputs": [],
   "source": []
  },
  {
   "cell_type": "code",
   "execution_count": 12,
   "metadata": {},
   "outputs": [
    {
     "name": "stdout",
     "output_type": "stream",
     "text": [
      "8\n"
     ]
    }
   ],
   "source": [
    "print('8')"
   ]
  },
  {
   "cell_type": "code",
   "execution_count": null,
   "metadata": {},
   "outputs": [],
   "source": []
  },
  {
   "cell_type": "code",
   "execution_count": 13,
   "metadata": {},
   "outputs": [
    {
     "name": "stdout",
     "output_type": "stream",
     "text": [
      "9\n"
     ]
    }
   ],
   "source": [
    "print('9')"
   ]
  },
  {
   "cell_type": "code",
   "execution_count": 16,
   "metadata": {},
   "outputs": [],
   "source": [
    "import time"
   ]
  },
  {
   "cell_type": "code",
   "execution_count": 17,
   "metadata": {},
   "outputs": [
    {
     "data": {
      "text/plain": [
       "1557506399.2426171"
      ]
     },
     "execution_count": 17,
     "metadata": {},
     "output_type": "execute_result"
    }
   ],
   "source": [
    "time.time()"
   ]
  },
  {
   "cell_type": "code",
   "execution_count": 14,
   "metadata": {},
   "outputs": [
    {
     "name": "stdout",
     "output_type": "stream",
     "text": [
      "10\n"
     ]
    }
   ],
   "source": [
    "print('10')"
   ]
  },
  {
   "cell_type": "code",
   "execution_count": null,
   "metadata": {},
   "outputs": [],
   "source": []
  },
  {
   "cell_type": "code",
   "execution_count": 15,
   "metadata": {},
   "outputs": [
    {
     "name": "stdout",
     "output_type": "stream",
     "text": [
      "11\n"
     ]
    }
   ],
   "source": [
    "print('11')"
   ]
  },
  {
   "cell_type": "code",
   "execution_count": null,
   "metadata": {},
   "outputs": [],
   "source": [
    "#! /usr/bin/env python  \n",
    "\n",
    "import smtpli\n",
    "\n",
    "from email.mime.text import MIMEText\n",
    "\n",
    "mailto_list=['xxxx@xxx.com']           #收件人(列表)\n",
    "\n",
    "mail_host=\"smtp.163.com\"            #使用的邮箱的smtp服务器地址\n",
    "\n",
    "mail_user=\"name\"                           #用户名\n",
    "\n",
    "mail_pass=\"pwd\"                             #密码\n",
    "\n",
    "mail_postfix=\"postfix\"                     #邮箱的后缀\n",
    "\n",
    "def send_mail(to_list,sub,content):\n",
    "\n",
    "    me=\"hello\"+\"<\"+mail_user+\"@\"+mail_postfix+\">\"\n",
    "\n",
    "    msg = MIMEText(content,_subtype='plain')\n",
    "\n",
    "    msg['Subject'] = sub\n",
    "\n",
    "    msg['From'] = me\n",
    "\n",
    "    msg['To'] = \";\".join(to_list)                #将收件人列表以‘；’分隔\n",
    "\n",
    "    try:\n",
    "\n",
    "        server = smtplib.SMTP()\n",
    "\n",
    "        server.connect(mail_host)                            #连接服务器\n",
    "\n",
    "        server.login(mail_user,mail_pass)               #登录操作\n",
    "\n",
    "        server.sendmail(me, to_list, msg.as_string())\n",
    "\n",
    "        server.close()\n",
    "\n",
    "        return True\n",
    "\n",
    "    except Exception, e:\n",
    "\n",
    "        print str(e)\n",
    "\n",
    "        return False\n",
    "\n",
    "for i in range(5):                             #发送五封，不过会被拦截的。。。\n",
    "\n",
    "    if send_mail(mailto_list,\"hello\",\"haha!\"):  #邮件主题和邮件内容\n",
    "\n",
    "        print \"done!\"\n",
    "\n",
    "    else:\n",
    "\n",
    "        print \"failed!\""
   ]
  }
 ],
 "metadata": {
  "kernelspec": {
   "display_name": "Python 3",
   "language": "python",
   "name": "python3"
  },
  "language_info": {
   "codemirror_mode": {
    "name": "ipython",
    "version": 3
   },
   "file_extension": ".py",
   "mimetype": "text/x-python",
   "name": "python",
   "nbconvert_exporter": "python",
   "pygments_lexer": "ipython3",
   "version": "3.7.3"
  }
 },
 "nbformat": 4,
 "nbformat_minor": 2
}
